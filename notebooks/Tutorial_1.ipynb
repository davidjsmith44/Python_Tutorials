{
 "cells": [
  {
   "cell_type": "markdown",
   "metadata": {},
   "source": [
    "# Python tutorial 1\n",
    "\n",
    "This is our first python tutorial. It will cover not only python but the Jupyter Notebook procedures\n",
    "\n",
    "Today we will cover:\n",
    "\n",
    "### Structure of jupyter notebook\n",
    " * Cells and cell type\n",
    " * Menu buttons\n",
    " * restarting a kernal (what is a kernal?)\n",
    "\n",
    "### Programming basics and variable types in python\n",
    " * Hello World\n",
    " * print statements - variables and strings\n",
    " * Strings: Creation and methods\n",
    " * lists\n",
    " * iteration with lists\n",
    " * dictionaries\n",
    " * tuples\n",
    " \n",
    " ___"
   ]
  },
  {
   "cell_type": "markdown",
   "metadata": {},
   "source": [
    "## Jupyter Notebook Tutorial\n",
    "\n",
    "Jupyter stands for 'Julia', 'Python', and 'R', which are three programming languages. Notebooks allow for visual explaination of programs that can include graphics, text, code and output.\n",
    "\n",
    "There are three types of cells we will be using:\n",
    "    - Markdown cells: Cells that can include text, images, tables and anything a word document can contain.\n",
    "    - Code Cells: cells that have code in them and can be executed by the user\n",
    "    - Output cells: if your code cell creates output to the notebook, it will be contained in an output cell.\n",
    "    \n",
    "Note: The default type of cell is a code cell. At the top of the Jupyter Notebook, there is a dropdown arrow that allows you to change the cell type to 'Markdown' from 'Code' (below the Widget's menu)\n",
    "\n",
    "___\n",
    "##### Markdown Cells:\n",
    "Markdown cells can be just text, but there are also include graphics, tables, pictures, equations and formatted text\n",
    "\n",
    "<b>This is bold text </b>\n",
    "\n",
    "<i>Italic Text </i>\n",
    "\n",
    "<blockquote> This is where I have my blockquote text. It will all be indented to make it easier to read </blockquote>\n",
    "\n",
    "To get the formatting in your markdown cell visible, you need to hit [Shift] + [Enter].\n",
    "\n",
    "To edit the markdown cell, you need to double click on the cell\n",
    "##### Code Cells:\n",
    "Not surprisingly, code cells have code in them! The rows in a code cell are also numbered and there is an \"In []\" on the far left. \n",
    "\n",
    "##### Output Cells:\n",
    "Output cells magically appear below a code cell if the code creates output to be printed. Code cells that have an variable or object as the last line (versus a command) will also produce an output cell with this object being printed.\n",
    "\n",
    "You cannot edit output cells\n",
    "\n",
    "As a quick example, the below code cell creates an output cell"
   ]
  },
  {
   "cell_type": "code",
   "execution_count": 1,
   "metadata": {},
   "outputs": [
    {
     "data": {
      "text/plain": [
       "3"
      ]
     },
     "execution_count": 1,
     "metadata": {},
     "output_type": "execute_result"
    }
   ],
   "source": [
    "3"
   ]
  },
  {
   "cell_type": "markdown",
   "metadata": {},
   "source": [
    "## What the hell is a kernal???\n",
    "Good question. For a Jupyter Notebook to be able to show output and rerun cells, it has to have a program running in the back that stores all of the information. This is called a kernal. (No idea why, but it is.)\n",
    "\n",
    "When you step through a notebook making code changes, the kernal keeps track of everything. It also numbers the code cells and output cells that have been run. (See the #1 in the code cell and output cell above)\n",
    "\n",
    "The cells are run one at a time (usually), so order matters in a program. If you make a mistake that changes your data to something you don't want, you need a way to reset everything. This is called resetting the kernal.\n",
    "To do this, you select 'Kernel' from the menu bar and usually select 'restart and clear all output'. This will make all of the values you entered disappear until you rerun the code cells.\n",
    "\n",
    "If you select this now, it will remove the # on our code cell above and remove the output cell completely.\n",
    "\n",
    "When you rerun that code cell, the output cell magically reappears.\n",
    "\n",
    "You need to know this because programming is all about making mistakes and starting over! Trust me, this is a very common command."
   ]
  },
  {
   "cell_type": "markdown",
   "metadata": {},
   "source": [
    "## Strings\n",
    "Strings are simply text. It can be one character or the entire text of \"Pride and Prejudice\" so there is not a length limitation.\n",
    "\n",
    "Strings are a specific type of variable. They are an 'object' which simply means that all strings are treated the same and you can do similar things with all strings. These are called methods (just functions that are specific to strings.)\n",
    "\n",
    "In python, if you are creating a string, it has to contain quotes around it for python to know it is a string. The quotes can be either single or double, but they need to match.\n",
    "\n",
    "The code cell below prints the string 'Hello World'"
   ]
  },
  {
   "cell_type": "code",
   "execution_count": 14,
   "metadata": {},
   "outputs": [
    {
     "name": "stdout",
     "output_type": "stream",
     "text": [
      "Hello World\n"
     ]
    }
   ],
   "source": [
    "print(\"Hello World\")"
   ]
  },
  {
   "cell_type": "markdown",
   "metadata": {},
   "source": [
    "What happens if we eliminate the quotes?"
   ]
  },
  {
   "cell_type": "code",
   "execution_count": 15,
   "metadata": {},
   "outputs": [
    {
     "ename": "SyntaxError",
     "evalue": "invalid syntax (<ipython-input-15-10cb182148e3>, line 1)",
     "output_type": "error",
     "traceback": [
      "\u001b[0;36m  File \u001b[0;32m\"<ipython-input-15-10cb182148e3>\"\u001b[0;36m, line \u001b[0;32m1\u001b[0m\n\u001b[0;31m    print(Hello World)\u001b[0m\n\u001b[0m                    ^\u001b[0m\n\u001b[0;31mSyntaxError\u001b[0m\u001b[0;31m:\u001b[0m invalid syntax\n"
     ]
    }
   ],
   "source": [
    "print(Hello World)"
   ]
  },
  {
   "cell_type": "markdown",
   "metadata": {},
   "source": [
    "###### DOH!\n",
    "What is happening here is that python has no idea what you are talking about because it did not know you wanted to print a string.\n",
    "\n",
    "You can create a variable that is a string. (Note, you can name it almost anything you want but it has to be less than 79 characters and should not include the following ' ~ ! # $ & ( ) { } | \\ ; \" > < and 'Space')"
   ]
  },
  {
   "cell_type": "code",
   "execution_count": 16,
   "metadata": {},
   "outputs": [
    {
     "name": "stdout",
     "output_type": "stream",
     "text": [
      "Hello World!\n"
     ]
    }
   ],
   "source": [
    "my_string = 'Hello World!'\n",
    "print(my_string)"
   ]
  },
  {
   "cell_type": "markdown",
   "metadata": {},
   "source": [
    "Jupyter Notebooks will automatically print out the variable if you just leave the variable name in the cell and hit [Shift] + [Enter]"
   ]
  },
  {
   "cell_type": "code",
   "execution_count": 17,
   "metadata": {},
   "outputs": [
    {
     "data": {
      "text/plain": [
       "'Hello World!'"
      ]
     },
     "execution_count": 17,
     "metadata": {},
     "output_type": "execute_result"
    }
   ],
   "source": [
    "my_string"
   ]
  },
  {
   "cell_type": "markdown",
   "metadata": {},
   "source": [
    "##### Referencing parts of a string \n",
    "NOTE: Python starts at zero when it is indexing, because zero is the first number. (This may be confusing sometimes, but you will get used to it. \n",
    "\n",
    "To to reference one character simply put the character location (from the left) in the brackets."
   ]
  },
  {
   "cell_type": "code",
   "execution_count": 18,
   "metadata": {},
   "outputs": [
    {
     "data": {
      "text/plain": [
       "'H'"
      ]
     },
     "execution_count": 18,
     "metadata": {},
     "output_type": "execute_result"
    }
   ],
   "source": [
    "my_string[0]"
   ]
  },
  {
   "cell_type": "code",
   "execution_count": 19,
   "metadata": {},
   "outputs": [
    {
     "data": {
      "text/plain": [
       "' '"
      ]
     },
     "execution_count": 19,
     "metadata": {},
     "output_type": "execute_result"
    }
   ],
   "source": [
    "my_string[5]"
   ]
  },
  {
   "cell_type": "code",
   "execution_count": 20,
   "metadata": {},
   "outputs": [
    {
     "ename": "IndexError",
     "evalue": "string index out of range",
     "output_type": "error",
     "traceback": [
      "\u001b[0;31m---------------------------------------------------------------------------\u001b[0m",
      "\u001b[0;31mIndexError\u001b[0m                                Traceback (most recent call last)",
      "\u001b[0;32m<ipython-input-20-183bcaa596d6>\u001b[0m in \u001b[0;36m<module>\u001b[0;34m\u001b[0m\n\u001b[0;32m----> 1\u001b[0;31m \u001b[0mmy_string\u001b[0m\u001b[0;34m[\u001b[0m\u001b[0;36m55\u001b[0m\u001b[0;34m]\u001b[0m\u001b[0;34m\u001b[0m\u001b[0;34m\u001b[0m\u001b[0m\n\u001b[0m",
      "\u001b[0;31mIndexError\u001b[0m: string index out of range"
     ]
    }
   ],
   "source": [
    "my_string[55]"
   ]
  },
  {
   "cell_type": "markdown",
   "metadata": {},
   "source": [
    "##### The string is not that long, so python has no idea what the hell you are talking about!"
   ]
  },
  {
   "cell_type": "markdown",
   "metadata": {},
   "source": [
    "To reference from the right, things are a little stranger.\n",
    "First, you have to enter a negative sign so python knows that we are talking about counting from the other side.\n",
    "Second, you have to put the character you want in the brackets, BUT python starts counting at 1 on that side. (I guess this is because -0 means nothing. Just a guess)"
   ]
  },
  {
   "cell_type": "code",
   "execution_count": 12,
   "metadata": {},
   "outputs": [
    {
     "data": {
      "text/plain": [
       "'!'"
      ]
     },
     "execution_count": 12,
     "metadata": {},
     "output_type": "execute_result"
    }
   ],
   "source": [
    "my_string[-1]"
   ]
  },
  {
   "cell_type": "code",
   "execution_count": 21,
   "metadata": {},
   "outputs": [
    {
     "data": {
      "text/plain": [
       "'r'"
      ]
     },
     "execution_count": 21,
     "metadata": {},
     "output_type": "execute_result"
    }
   ],
   "source": [
    "my_string[-4]"
   ]
  },
  {
   "cell_type": "markdown",
   "metadata": {},
   "source": [
    "### Selecting larger parts of a string"
   ]
  },
  {
   "cell_type": "code",
   "execution_count": null,
   "metadata": {},
   "outputs": [],
   "source": []
  },
  {
   "cell_type": "code",
   "execution_count": null,
   "metadata": {},
   "outputs": [],
   "source": []
  },
  {
   "cell_type": "code",
   "execution_count": null,
   "metadata": {},
   "outputs": [],
   "source": []
  },
  {
   "cell_type": "code",
   "execution_count": null,
   "metadata": {},
   "outputs": [],
   "source": []
  },
  {
   "cell_type": "code",
   "execution_count": null,
   "metadata": {},
   "outputs": [],
   "source": []
  },
  {
   "cell_type": "code",
   "execution_count": null,
   "metadata": {},
   "outputs": [],
   "source": []
  },
  {
   "cell_type": "code",
   "execution_count": null,
   "metadata": {},
   "outputs": [],
   "source": []
  },
  {
   "cell_type": "code",
   "execution_count": null,
   "metadata": {},
   "outputs": [],
   "source": []
  },
  {
   "cell_type": "code",
   "execution_count": null,
   "metadata": {},
   "outputs": [],
   "source": []
  },
  {
   "cell_type": "code",
   "execution_count": 8,
   "metadata": {},
   "outputs": [
    {
     "data": {
      "text/plain": [
       "'Hello World!Hello World!Hello World!Hello World!Hello World!'"
      ]
     },
     "execution_count": 8,
     "metadata": {},
     "output_type": "execute_result"
    }
   ],
   "source": [
    "my_string * 5"
   ]
  },
  {
   "cell_type": "code",
   "execution_count": null,
   "metadata": {},
   "outputs": [],
   "source": []
  },
  {
   "cell_type": "code",
   "execution_count": null,
   "metadata": {},
   "outputs": [],
   "source": []
  },
  {
   "cell_type": "code",
   "execution_count": null,
   "metadata": {},
   "outputs": [],
   "source": [
    "my_string[0]"
   ]
  },
  {
   "cell_type": "markdown",
   "metadata": {},
   "source": [
    "To address the first 4 items, use [0:4] \n",
    "\n",
    "NOTE:\n",
    " - This will odd but the last number is non-inclusive (so it will return the zero, first, second and third characters of the string)\n",
    "\n",
    " - The : can be thought of as 'to'"
   ]
  },
  {
   "cell_type": "code",
   "execution_count": null,
   "metadata": {},
   "outputs": [],
   "source": [
    "my_string[0:4]"
   ]
  },
  {
   "cell_type": "markdown",
   "metadata": {},
   "source": [
    " - prints from 4 to the end of the string"
   ]
  },
  {
   "cell_type": "code",
   "execution_count": null,
   "metadata": {},
   "outputs": [],
   "source": [
    "print(my_string[4:])"
   ]
  },
  {
   "cell_type": "markdown",
   "metadata": {},
   "source": [
    "To print from 2 to 7 (not including the 7)"
   ]
  },
  {
   "cell_type": "code",
   "execution_count": null,
   "metadata": {},
   "outputs": [],
   "source": [
    "print(my_string[2:7])"
   ]
  },
  {
   "cell_type": "markdown",
   "metadata": {},
   "source": [
    "### String Attributes\n",
    "\n",
    "Attributes are properties of a particular string variable. Some sample ones are:\n",
    " - len\n",
    " -"
   ]
  },
  {
   "cell_type": "code",
   "execution_count": null,
   "metadata": {},
   "outputs": [],
   "source": [
    "len(my_string)"
   ]
  },
  {
   "cell_type": "markdown",
   "metadata": {},
   "source": [
    "### String Methods\n",
    "\n",
    "Methods are things you can do with strings. To find a list of all possible string methods you can type the string variable and then the '.' and hit tab.\n"
   ]
  },
  {
   "cell_type": "code",
   "execution_count": null,
   "metadata": {},
   "outputs": [],
   "source": [
    "print(my_string.lower())"
   ]
  },
  {
   "cell_type": "code",
   "execution_count": null,
   "metadata": {},
   "outputs": [],
   "source": [
    "print(my_string.upper())"
   ]
  },
  {
   "cell_type": "code",
   "execution_count": null,
   "metadata": {},
   "outputs": [],
   "source": [
    "my_string.count('l')"
   ]
  },
  {
   "cell_type": "code",
   "execution_count": null,
   "metadata": {},
   "outputs": [],
   "source": [
    "my_string.isnumeric()"
   ]
  },
  {
   "cell_type": "code",
   "execution_count": null,
   "metadata": {},
   "outputs": [],
   "source": [
    "my_string.isalpha()"
   ]
  },
  {
   "cell_type": "code",
   "execution_count": null,
   "metadata": {},
   "outputs": [],
   "source": []
  },
  {
   "cell_type": "code",
   "execution_count": null,
   "metadata": {},
   "outputs": [],
   "source": []
  },
  {
   "cell_type": "code",
   "execution_count": null,
   "metadata": {},
   "outputs": [],
   "source": []
  },
  {
   "cell_type": "code",
   "execution_count": null,
   "metadata": {},
   "outputs": [],
   "source": []
  },
  {
   "cell_type": "code",
   "execution_count": null,
   "metadata": {},
   "outputs": [],
   "source": []
  },
  {
   "cell_type": "code",
   "execution_count": null,
   "metadata": {},
   "outputs": [],
   "source": []
  },
  {
   "cell_type": "code",
   "execution_count": null,
   "metadata": {},
   "outputs": [],
   "source": []
  },
  {
   "cell_type": "code",
   "execution_count": null,
   "metadata": {},
   "outputs": [],
   "source": []
  },
  {
   "cell_type": "code",
   "execution_count": null,
   "metadata": {},
   "outputs": [],
   "source": []
  },
  {
   "cell_type": "markdown",
   "metadata": {},
   "source": []
  }
 ],
 "metadata": {
  "kernelspec": {
   "display_name": "Python 3",
   "language": "python",
   "name": "python3"
  },
  "language_info": {
   "codemirror_mode": {
    "name": "ipython",
    "version": 3
   },
   "file_extension": ".py",
   "mimetype": "text/x-python",
   "name": "python",
   "nbconvert_exporter": "python",
   "pygments_lexer": "ipython3",
   "version": "3.7.3"
  }
 },
 "nbformat": 4,
 "nbformat_minor": 2
}
